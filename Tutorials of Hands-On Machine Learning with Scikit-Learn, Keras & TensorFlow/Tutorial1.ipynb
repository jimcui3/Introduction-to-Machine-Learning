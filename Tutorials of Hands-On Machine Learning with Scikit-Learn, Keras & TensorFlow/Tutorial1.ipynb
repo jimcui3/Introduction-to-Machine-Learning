{
 "cells": [
  {
   "cell_type": "markdown",
   "metadata": {},
   "source": [
    "❗️ **本教程知识体系来源于**\n",
    "**Hands-On Machine Learning with Scikit-Learn, Keras, and TensorFlow, 2nd edition**\n",
    "**作者为Aurélien Géron**\n",
    "\n",
    "**知识产权归原作者所有，如有侵权请联系删除**\n"
   ]
  },
  {
   "cell_type": "markdown",
   "metadata": {},
   "source": [
    "# 动手做机器学习教程1 - 机器学习简介\n",
    ">在本节，我们会简单介绍机器学习，其中一些重要的术语，以及基本思路。"
   ]
  },
  {
   "cell_type": "markdown",
   "metadata": {},
   "source": [
    "## 1.什么是机器学习\n",
    "\n",
    "    \n",
    "* <p style=\"text-align:justify;text-justify:inter-ideograph;\">  \"Machine learning (ML) is the scientific study of algorithms and statistical models that computer systems use to perform a specific task without using explicit instructions, relying on patterns and inference instead.\" （“机器学习（ML）是对算法和统计模型的科学研究，使得令计算机系统执行特定任务无需明确的指令，而是依靠模型和推理。”） - 维基百科</p>\n",
    "\n",
    "* <p style=\"text-align:justify;text-justify:inter-ideograph;\"> \"A computer program is said to learn from experience E with respect to some class of tasks T and performance measure P, if its performance at tasks in T, as measured by P, improves with experience E.\" （若计算机程序在某类任务T的绩效（由绩效指标P衡量）会随着经验E而提高，那么称该程序可以从经验E中学习有关任务T和指标P的信息。） - Tom Mitchell</p>\n",
    "\n",
    "<p style=\"text-align:justify;text-justify:inter-ideograph;\"> 从上述两个定义可以看出，机器学习（Machine Learning）主要是设计和分析一些让计算机可以根据已有的数据、指标、模型等进行自动“学习”、“提升”（一般是分析获得规律），并利用规律对未知数据进行预测的算法。通常认为机器学习是人工智能（Artificial Intelligence）的一个子集。</p>\n"
   ]
  },
  {
   "cell_type": "markdown",
   "metadata": {},
   "source": [
    "## 2.为什么要用机器学习\n",
    "<div class=\"alert alert-info\"><h4>设想</h4><p>\n",
    "你的团队在开发一个垃圾邮件拦截系统，邮箱每收到一封邮件，就需要鉴别其是否是垃圾邮件。\n",
    "\n",
    "你的团队发现垃圾邮件中常包含一些敏感词，如“广告”、“贷款”、“发票”、“免费”等。\n",
    "\n",
    "你是系统的算法工程师，需要设计一个算法框架来利用**敏感词**来鉴别垃圾邮件。\n",
    "\n",
    "你会怎么做？</p></div>\n",
    "\n",
    "* 方案1：人工搜集一些垃圾邮件中常出现的敏感词→设定：若邮件中出现多个敏感词（如至少2个），且次数较多（如大于5次），则归档至垃圾邮件。\n",
    "\n",
    "`在使用该方案后，你发现一些垃圾邮件发信者为了越过你的算法，开始利用“广*告”、“广 告”等更新后的敏感词来代替原敏感词。你需要更新你的算法。`\n",
    "\n",
    "* 方案1（更新版）：方案1→**人工**根据新搜集的垃圾邮件，归纳出常出现的敏感词，加入到敏感词库中→隔一段时间便**人工**搜集一次敏感词，加入到敏感词库中。\n",
    "\n",
    "`你将会不断地更新敏感词，代码会不断加长。这样既会浪费很多时间和人力，也会使系统更加冗杂。能否找到更方便的方法？`\n",
    "\n",
    "* 方案2（利用机器学习）：方案1→令**机器**隔一段时间根据新搜集的垃圾邮件，归纳出常出现的敏感词，加入到敏感词库中。\n",
    "\n",
    "`机器将会不断地更新敏感词。你只需要定期对算法模型进行维护即可。`\n",
    "\n",
    "上述的例子只是机器学习众多应用之一。总的来说，机器学习比起传统算法具有以下优势：\n",
    "* 更易解决需要多次调优或判定规则过多的问题（如垃圾邮件鉴别）\n",
    "* 更易适应变动的环境和数据（如金融分析）\n",
    "* 更易解决人类难以总结规律或算法的问题（如语音识别）\n",
    "* 可根据机器学习的结果进行数据挖掘，得到更多启发\n",
    "……\n"
   ]
  },
  {
   "cell_type": "markdown",
   "metadata": {},
   "source": [
    "## 3.机器学习的种类\n",
    "### (1)是否有“监督”： \n",
    "* 监督学习（supervised learning）：所用的数据集（称为训练集，training set）都包括其**标签（label）**，如“是垃圾邮件”、“不是垃圾邮件”。注意：将每个数据都贴上标签是一件很费时费力的事情。\n",
    "监督学习可以完成分类（classification）、回归（regression）等任务。\n",
    "所用的算法包括k-临近算法（k-nearest neighbors）、线性回归（linear regression）、逻辑回归（logistic regression）、支持向量机（support vector machines, SVMs）、决策树与随机森林（decision trees and random forests）、神经网络（neural networks）等。\n",
    "\n",
    "* 无监督学习（unsupervised learning）：训练集**不包括**标签，系统将会脱离用户的指导自己学习。\n",
    "无监督学习可以完成聚类（clustering）、可视化（visualization）、异常检测（anomaly detection）等任务。\n",
    "所用的算法包括k-均值聚类算法（k-means clustering）、谱聚类算法（spectral clustering）、主成分分析（principal component analysis, PCA）、孤立森林（isolation forest）等。\n",
    "\n",
    "* 半监督学习（semi-supervised learning）：由于贴标签费时费力，通常拿到的数据有很多未贴标签，一小部分贴了标签。我们会利用半监督学习来让机器进行学习。\n",
    "\n",
    "* 强化学习（reinforcement learning, RL）：在强化学习中，机器被称为智能体（agent），我们设定其所处环境以及奖惩（rewards and penalties），其自行尝试出获得奖励最高的策略(policy)。\n",
    "阿尔法狗（AlphaGo）便是强化学习的产物。\n",
    "\n",
    "### (2)是否能持续学习：\n",
    "* 批量学习（batch learning）：每次学习，必须给定一个数据集，且仅能用该数据集进行学习，学习的过程**无需联网**。在学习完毕并投入使用后，机器不会根据产生的数据继续学习。若想更新机器，必须**重新**用一个数据集开始学习。\n",
    "适用于无需联网或不需要大量数据的机器，如手机app、月球车等。\n",
    "\n",
    "* 在线学习（online learning）：学习的时候需要持续给机器数据或小数据集，令其学习。每次学习的频率（学习率，learning rate）由开发者根据数据需要更新的频率来定。\n",
    "\n",
    "### (3)是将新数据与已知数据对比，还是分析数据并建立模型：\n",
    "* 基于实例的学习（instance-based learning）：每次拿到新数据，机器会进行测量，并和已有的数据进行比对（测量和比对的方法由开发者定），然后对新数据进行归类或进一步处理。\n",
    "\n",
    "* 基于模型的学习（model-based learning）：根据已有的数据建立数学模型（如线性模型），拿到新的数据后，根据模型进行评测与处理。\n"
   ]
  },
  {
   "cell_type": "markdown",
   "metadata": {},
   "source": [
    "## 4.机器学习应用中遇到的困难\n",
    "* 训练集过小。\n",
    "* 训练集无法代表实际数据。\n",
    "\n",
    "一般情况下，训练机器需要很多数据，且越复杂的问题需要的数据越多。若训练集过小或无法作为实际数据的代表，机器在面对无法被训练集代表的实际数据时，难以进行正确的分析和处理。\n",
    "\n",
    "* 模型过于复杂（指模型的参数过多，关注的数据属性过多等）导致**过拟合（overfit）**。\n",
    "* 模型过于简单（指模型的参数过少，关注的数据属性过少等）导致欠拟合（underfit）。\n",
    "\n",
    "过拟合和欠拟合都会导致实际应用时，数据和模型不能完全匹配，导致分析结果出现问题。\n",
    "\n",
    "……\n"
   ]
  },
  {
   "cell_type": "markdown",
   "metadata": {},
   "source": [
    "## 5.超参数、训练集、验证集、测试集\n",
    "\n",
    "* 训练集与测试集（test set）：我们需要训练集来进行训练。假设我们要用训练集来建立一个数学模型，在我们的模型建立完毕后，必定要对模型进行测试，看它处理真实数据的能力是否满足要求。因此我们在学习前，需要将所有数据分为**不相交的两部分**：训练集和测试集。训练集用于学习，把测试集当作真实数据，用于测试模型。若测试时发现模型和训练集拟合度很好，但和测试集拟合度很差，说明发生过拟合；反之，发生欠拟合。在数据集不过大（如1000000条数据）时，可以令训练集占总数据的80%，测试集占20%。\n",
    "\n",
    "* 超参数（hyperparameter）：大多数机器学习算法有一些参数，称为超参数，用来控制算法本身（而非数学模型）的行为。超参数不会被算法所影响，并且其应该在训练时保持不变。如多次多项式回归模型中，多项式的次数λ是一个超参数。\n",
    "\n",
    "* 验证集（validation set）：在训练后，我们或许会得到多个拟合度都很好的不同类（如线性和高次多项式）的模型，如何选择最好的模型？如果用训练集来确定超参数，通常会发生过拟合；如果用测试集来测试，并根据结果修改超参数，也会发生过拟合。因此我们需要将上述的“训练集”分为**不相交的两部分**：训练集和验证集。我们要先用训练集训练模型，然后将模型对验证集进行拟合，选出超参数最好的模型，在训练集+验证集上再次训练，最后用测试集进行测试。这种方法称为留出验证法（hold-out validation）。若验证集过小，则需使用**交叉验证（cross-validation）**：选出很多小的验证集，每个模型需用除每一个验证集外的训练数据进行训练，再用该验证集进行验证，选出最好的模型，最终再测试。\n",
    "\n",
    "注意：验证集和测试集的取法必须能**代表整体数据**，不能够与整体数据的分布偏差过大，否则根据训练集训练的模型在验证与测试时，结果通常不会令人满意。\n"
   ]
  },
  {
   "attachments": {},
   "cell_type": "markdown",
   "metadata": {},
   "source": [
    "## 6.没有免费午餐定理\n",
    "\n",
    "没有免费午餐定理(No Free Lunch Theorem，简称NFL定理)是David Wolpert于1996年提出的最优化理论的发展之一。其表明我们的模型都需要对数据的分布进行**一定的假设**；若不进行假设，则无法说某一个模型一定比另一个模型要好。当然，此处的“假设”是根据数据本身的**大概分布**来定的，并非随机想出一个模型，并认为数据符合该数学模型。\n",
    "\n",
    "如线性模型认为数据沿一条直线分布，且真实数据与按线性模型算出的回归数据的差距是噪音，因此可以忽略。下面的图片便是一例：\n",
    "\n",
    "![其线性模型.jpg](其线性模型.jpg)\n",
    "\n",
    "看数据分布的散点图，我们发现这组数据基本上表现出正相关性，且基本为线性（而非二次、三次多项式或对数模型等正相关），可以用线性模型处理。图中的红线即为根据数据建立的线性模型。\n",
    "\n",
    "❗️ 事实上，统计学上的线性模型对数据有四点假设：\n",
    "变量之间的关系是线性的；数据是同方差的；残差是独立的；残差服从正态分布。在此便不再深入探讨了。\n"
   ]
  },
  {
   "cell_type": "markdown",
   "metadata": {},
   "source": [
    "## 参考资料：\n",
    "* “Hands-On Machine Learning with Scikit-Learn, Keras, and TensorFlow, 2nd edition”  作者：Aurélien Géron\n",
    "* “Deep Learning” 作者：Ian Goodfellow, Yoshua Bengio, Aaron Courville\n"
   ]
  },
  {
   "cell_type": "code",
   "execution_count": null,
   "metadata": {},
   "outputs": [],
   "source": []
  }
 ],
 "metadata": {
  "kernelspec": {
   "display_name": "Python 3",
   "language": "python",
   "name": "python3"
  },
  "language_info": {
   "codemirror_mode": {
    "name": "ipython",
    "version": 3
   },
   "file_extension": ".py",
   "mimetype": "text/x-python",
   "name": "python",
   "nbconvert_exporter": "python",
   "pygments_lexer": "ipython3",
   "version": "3.7.3"
  }
 },
 "nbformat": 4,
 "nbformat_minor": 4
}
