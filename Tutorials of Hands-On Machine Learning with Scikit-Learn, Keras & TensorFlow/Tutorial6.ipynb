{
 "cells": [
  {
   "cell_type": "markdown",
   "metadata": {},
   "source": [
    "❗️ **本教程知识体系来源于**\n",
    "**Hands-On Machine Learning with Scikit-Learn, Keras, and TensorFlow, 2nd edition**\n",
    "**作者为Aurélien Géron**\n",
    "\n",
    "**知识产权归原作者所有，如有侵权请联系删除**"
   ]
  },
  {
   "cell_type": "markdown",
   "metadata": {},
   "source": [
    "# 动手做机器学习教程6 - 多种分类算法(下)\n",
    ">在本节，我们会着重介绍分类的两个算法：logistic回归和支持向量机。"
   ]
  },
  {
   "cell_type": "markdown",
   "metadata": {},
   "source": [
    "## 1.logistic回归\n",
    "logistic回归(或“逻辑回归”、“逻辑斯蒂回归”)是一种分类算法。其实回归和分类并不是完全分离的两种问题，上节教程的去噪问题也可以视为一个回归问题。"
   ]
  },
  {
   "cell_type": "markdown",
   "metadata": {},
   "source": [
    "## 2.支持向量机"
   ]
  },
  {
   "cell_type": "markdown",
   "metadata": {},
   "source": [
    "## 参考资料：\n",
    "* “Hands-On Machine Learning with Scikit-Learn, Keras, and TensorFlow, 2nd edition”  作者：Aurélien Géron\n"
   ]
  }
 ],
 "metadata": {
  "kernelspec": {
   "display_name": "Python 3",
   "language": "python",
   "name": "python3"
  },
  "language_info": {
   "codemirror_mode": {
    "name": "ipython",
    "version": 3
   },
   "file_extension": ".py",
   "mimetype": "text/x-python",
   "name": "python",
   "nbconvert_exporter": "python",
   "pygments_lexer": "ipython3",
   "version": "3.7.3"
  }
 },
 "nbformat": 4,
 "nbformat_minor": 2
}
